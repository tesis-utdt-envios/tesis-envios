{
 "cells": [
  {
   "cell_type": "code",
   "execution_count": 2,
   "metadata": {
    "executionInfo": {
     "elapsed": 690,
     "status": "ok",
     "timestamp": 1602763937353,
     "user": {
      "displayName": "Damián Izarnotegui",
      "photoUrl": "",
      "userId": "16325163116693118713"
     },
     "user_tz": 180
    },
    "id": "mczJZi0_2opG"
   },
   "outputs": [],
   "source": [
    "import numpy as np\n",
    "import pandas as pd\n",
    "import datetime as dt\n",
    "import pickle\n",
    "import re\n",
    "import unidecode\n",
    "import math as m"
   ]
  },
  {
   "cell_type": "code",
   "execution_count": 22,
   "metadata": {
    "id": "SBXRuR0NkUTH"
   },
   "outputs": [],
   "source": [
    "def preprocessing(text):\n",
    "\n",
    "  #print(text)\n",
    "  try: #text == None:\n",
    "    #pass\n",
    "  #else:\n",
    "# Remove all the special characters\n",
    "    text = re.sub('\\W+',' ', text)\n",
    " \n",
    "# Substituing all numnbers\n",
    "    text = re.sub('[0-9]', '', text)\n",
    "\n",
    "# Remove all single characters\n",
    "    text = re.sub(r\"\\b[a-zA-Z]\\b\", \"\", text)\n",
    "\n",
    "# Remove all single characters\n",
    "    text = re.sub(r'\\s+[a-zA-Z]\\s+', ' ', text)\n",
    "\n",
    "# Remove single characters from the start\n",
    "    text = re.sub(r'\\^[a-zA-Z]\\s+', ' ', text)\n",
    "\n",
    "    text = text.replace('_',' ')\n",
    "\n",
    "# Converting to Lowercase\n",
    "    text = text.lower()\n",
    "\n",
    "# Remove accents\n",
    "    text = unidecode.unidecode(text)\n",
    "\n",
    "# Remove words with less or equal than 2 letters\n",
    "    text = re.sub(r'\\b\\w{1,2}\\b', '', text)\n",
    "\n",
    "# Substituting multiple spaces with single space\n",
    "    text = re.sub(r'\\s+', ' ', text, flags=re.I)\n",
    "\n",
    "# Remove initial and final spaces  \n",
    "    text = text.strip()\n",
    "\n",
    "# Lemmatization\n",
    "#    wnl = WordNetLemmatizer()\n",
    "#    text = text.split()\n",
    "#    text = [wnl.lemmatize(word) for word in text]\n",
    "#    text = [word for word in text if word not in en_stop]\n",
    "#    text = [word for word in text if len(word) > 3]\n",
    "#    text = ' '.join(text)\n",
    "    return text\n",
    "  except:\n",
    "    pass\n",
    "\n",
    "def preprocessing_2(text):\n",
    "  try:\n",
    "    text = text.replace('MLB-','')\n",
    "    text = text.replace('_',' ')\n",
    "    text = text.lower()\n",
    "    return text\n",
    "  except:\n",
    "    pass\n",
    "\n",
    "def preprocessing_3(text):\n",
    "  try:\n",
    "    text = str(text)\n",
    "    text = text.replace('0','zero')\n",
    "    text = text.replace('1','um')\n",
    "    text = text.replace('2','dois')\n",
    "    text = text.replace('3','treis')\n",
    "    text = text.replace('4','quatro')\n",
    "    text = text.replace('5','cinco')\n",
    "    text = text.replace('6','seis')\n",
    "    text = text.replace('7','sete')\n",
    "    text = text.replace('8','oito')\n",
    "    text = text.replace('9','nove')\n",
    "    text = text.replace('MLB','')\n",
    "    text = text.strip()\n",
    "    return text\n",
    "  except:\n",
    "    pass\n",
    "\n",
    "def preprocessing_4(text):\n",
    "  try:\n",
    "    text = re.sub('\\W+',' ', text)\n",
    "    text = text.replace('0','zero')\n",
    "    text = text.replace('1','um')\n",
    "    text = text.replace('2','dois')\n",
    "    text = text.replace('3','treis')\n",
    "    text = text.replace('4','quatro')\n",
    "    text = text.replace('5','cinco')\n",
    "    text = text.replace('6','seis')\n",
    "    text = text.replace('7','sete')\n",
    "    text = text.replace('8','oito')\n",
    "    text = text.replace('9','nove')\n",
    "    text = unidecode.unidecode(text)\n",
    "    text = re.sub(r'\\s+', ' ', text, flags=re.I)  \n",
    "    text = text.strip()\n",
    "    text = text.lower()\n",
    "    return text\n",
    "  except:\n",
    "    pass\n",
    "\n",
    "def preprocessing_5(text):\n",
    "  try:\n",
    "    text = str(text)\n",
    "    text = text.replace('0','a')\n",
    "    text = text.replace('1','b')\n",
    "    text = text.replace('2','c')\n",
    "    text = text.replace('3','d')\n",
    "    text = text.replace('4','e')\n",
    "    text = text.replace('5','f')\n",
    "    text = text.replace('6','g')\n",
    "    text = text.replace('7','h')\n",
    "    text = text.replace('8','i')\n",
    "    text = text.replace('9','j')\n",
    "    text = text.replace('MLB','')\n",
    "    text = unidecode.unidecode(text)\n",
    "    text = re.sub(r'\\s+', ' ', text, flags=re.I)  \n",
    "    text = text.strip()\n",
    "    text = text.lower()\n",
    "    return text\n",
    "  except:\n",
    "    pass"
   ]
  },
  {
   "cell_type": "code",
   "execution_count": 52,
   "metadata": {
    "id": "wbpqh_fyuv4o"
   },
   "outputs": [],
   "source": [
    "#Carga del Conjunto de Datos\n",
    "\n",
    "ds = pd.read_pickle('ds.pkl')"
   ]
  },
  {
   "cell_type": "code",
   "execution_count": 53,
   "metadata": {
    "colab": {
     "base_uri": "https://localhost:8080/",
     "height": 901
    },
    "executionInfo": {
     "elapsed": 18253,
     "status": "ok",
     "timestamp": 1602538945122,
     "user": {
      "displayName": "Damián Izarnotegui",
      "photoUrl": "",
      "userId": "16325163116693118713"
     },
     "user_tz": 180
    },
    "id": "rMF6XoDOvC2_",
    "outputId": "1392727f-5f7f-493e-c992-d9181fdcfbdc"
   },
   "outputs": [
    {
     "output_type": "stream",
     "name": "stdout",
     "text": [
      "<class 'pandas.core.frame.DataFrame'>\nRangeIndex: 2298887 entries, 0 to 2298886\nData columns (total 43 columns):\n #   Column               Dtype  \n---  ------               -----  \n 0   Unnamed: 0           int64  \n 1   item_id              object \n 2   shp_service_id       float64\n 3   comp_length          float64\n 4   shp_quantity         float64\n 5   shp_weight           float64\n 6   shp_shipment_id      float64\n 7   comp_weight          float64\n 8   shp_width            float64\n 9   comp_height          float64\n 10  site_id              object \n 11  domain_id            object \n 12  attributes           object \n 13  shipping_mode        object \n 14  title                object \n 15  shp_length           float64\n 16  model_name           object \n 17  category_id          object \n 18  condition            object \n 19  catalog_product_id   object \n 20  shp_date_created     object \n 21  logistic_type        object \n 22  permalink            object \n 23  shp_volume           float64\n 24  seller_id            int64  \n 25  brand_name           object \n 26  shp_dimensions_from  object \n 27  shp_picking_type_id  object \n 28  price                float64\n 29  parent_product_id    object \n 30  creation_date        object \n 31  shp_height           float64\n 32  path_from_root       object \n 33  status               object \n 34  comp_width           float64\n 35  L1                   object \n 36  L2                   object \n 37  L3                   object \n 38  L4                   object \n 39  L5                   object \n 40  L6                   object \n 41  L7                   object \n 42  main_picture         object \ndtypes: float64(13), int64(2), object(28)\nmemory usage: 754.2+ MB\n"
     ]
    }
   ],
   "source": [
    "ds.info()"
   ]
  },
  {
   "cell_type": "code",
   "execution_count": 54,
   "metadata": {},
   "outputs": [],
   "source": [
    "# Generación de la etiqueta real de los productos\n",
    "# 1: Maquinable - 0: No Maquinable\n",
    "\n",
    "ds['gt'] = (ds['shp_length'] < 70) & (ds['shp_width'] < 70) & (ds['shp_height'] < 70)\n",
    "ds['gt'] = ds['gt']*1"
   ]
  },
  {
   "cell_type": "code",
   "execution_count": 55,
   "metadata": {},
   "outputs": [],
   "source": [
    "# Se eliminan los títulos duplicados para generar un conjunto de datos de productos\n",
    "ds = ds.drop_duplicates(subset='title')"
   ]
  },
  {
   "cell_type": "code",
   "execution_count": 56,
   "metadata": {
    "id": "9mWVdZ9Tq-SL"
   },
   "outputs": [],
   "source": [
    "# Se genera la columna label dado que se necesitará para el entrenamiento de la librería Fast Text\n",
    "\n",
    "mapping = {1:'__label__shorter_70cm', 0:'__label__longer_70cm'}\n",
    "ds['label'] = ds['gt'].map(mapping)\n",
    "\n",
    "# En base a análisis realizado y según la consulta del equipo exporte, se realizó una selección inicial de variables que puede utilizarse para construir la solución predictiva\n",
    "\n",
    "ds = ds[['gt','title','label','domain_id','category_id','seller_id','brand_name','L1','L2','L3','shp_weight','price']]\n",
    "#train = train.dropna()"
   ]
  },
  {
   "cell_type": "code",
   "execution_count": 57,
   "metadata": {},
   "outputs": [
    {
     "output_type": "stream",
     "name": "stdout",
     "text": [
      "0     Bau Tork 45 Litros + Bagageiro Titan Fan 125 2...\n1     Protetor De Sofá Mariana 1 Lugar Dupla-face Po...\n2     Tablet Powerpack Tela 10.1'' Ips Hd Android 7....\n3     Capa Silicone Borracha Tablet Apple iPad Pro 1...\n4     Silencioso Escapamento Motor Honda Gx240 - 7hp...\n5     Abajur Lustre Quarto Luminaria De Mesa Menina ...\n6     Lâmpada Led Globo De Luz Giratória  Rgb Dj Jog...\n7            Kit Relação Completa Yamaha Xtz 125 Xtz125\n8      Kit Relação Completa Velth Yamaha Xtz 125 Xtz125\n9                Kit Hidratante Sabonete Overdose Racco\n10                   Bandeja Civic 2001 Á 2005 Sem Pivô\n11           Vinho Luigi Bosca Malbec Cx Com 6 Promoção\n12    Lp Ghost  Opvs Eponymovs - Ed. Limitada + Fret...\n13                   Vodka Ciroc Coconut 750ml Original\n14    Capa Banco Carro 100% Couro Ecológico Universa...\n15    Lindo Poncho Pelerine De Lã Com Pelos Moda Bou...\n16    Pantovin Kit Crescimento Cabelos E Anti Queda ...\n17      Sunga Em Lycra Juvenil -  Nº 14 ( G / Juvenil )\n18                 Jardineira Evangélica Com 10 Botões \n19       Kit Relação Velth Honda Cbx 250 Twister Cbx250\n20    Kit Relação Velth Honda Nxr Bros 150 09 Diante...\n21              Kit Relação Velth Yamaha Xtz 125 Xtz125\n22     Kit Relação Completa Velth Honda Cb 300 R Cb300r\n23              Profuse Ensolei Compact Color Fps50 10g\n24    Kit Corrente+coroa+pinhao Honda Cbx 200 Strada...\n25       Isdin Nutratopic Pro Amp Loção Emoliente 400ml\n26    Bico Injetor Peugeot 206 Renault Clio 1.6 16v ...\n27    Micro System Caixa Som 2.1 Bluetooth 3000w Mp3...\n28    Mascara Keune Sleek & Shine Reconstrutora Prof...\n29    Parabarro Dianteiro Ranger 1993 1994 1995 1996...\n30    Sandália  Petite Jolie J Lastic Preto Promoção...\n31     Cabelo Humano Virgem Liso 50 Cm 100 Gr Promoção \n32     Pelúcia Zigamazoo Mostra Língua Com Cheiro  -dtc\n33      Kit 500 Caneta Plástica Mod 13440 Personalizada\n34    Kit 10 Spot Cob 3w Quadrado Direcionável  Led ...\n35    Kit 5  Regata Blusinha Alcinha  + 5 Baby Look ...\n36    Kit 100 Leds 3535 6v 2w Substituto Innotek - L...\n37    Conjunto Caveira Camisa+bermuda+manguito+luva+...\n38    Kit 2 Unidades - Controle Pra Alarme Fks Cr941...\n39    Kit Tapete Carpete Kit Milha Led Fiat Punto 20...\n40    Suporte Malas Laterais Monokey P Honda Transal...\n41    Shopkins Cutie Cars Show A Parte  3 Carrinhos ...\n42    Barril De Chopp 10l Slim Keg - Aço Inox (304) ...\n43    Limitador Porta Dianteira Corsa / Classic 1994...\n44    Som Portátil Boombox Bluetooth Cd Mp3 Player U...\n45    Válvula De Trabalho / Peso Panela Tramontina V...\n46    Capa De Cobrir Carro Jacaré S6 Para Santa Fé C...\n47        Acabamento Mídia Renault Captur 2018 Original\n48    Palheta Distribuidor De Adubo A Vacuo 6 X 40 X...\n49    Taça De Água Elegance Azul 260ml Kit Com 12 + ...\nName: title, dtype: object\n"
     ]
    }
   ],
   "source": [
    "# Muestra de títulos original\n",
    "print(ds['title'].head(50))"
   ]
  },
  {
   "cell_type": "code",
   "execution_count": 58,
   "metadata": {},
   "outputs": [],
   "source": [
    "#Ejecución del preprocesamiento sobre los descriptores textuales\n",
    "\n",
    "ds['title'] = ds['title'].transform(lambda i: preprocessing(i))\n",
    "ds['seller_id'] = ds['seller_id'].transform(lambda i: preprocessing_5(i))\n",
    "ds['brand_name'] = ds['brand_name'].transform(lambda i: preprocessing_4(i))\n",
    "ds['brand_name'] = ds['brand_name'].transform(lambda i: preprocessing(i))\n",
    "ds['L1'] = ds['L1'].transform(lambda i: preprocessing(i))\n",
    "ds['L2'] = ds['L2'].transform(lambda i: preprocessing(i))\n",
    "ds['L3'] = ds['L3'].transform(lambda i: preprocessing(i))\n",
    "ds = ds.drop_duplicates('title')\n",
    "ds = ds.reset_index(drop=True)"
   ]
  },
  {
   "cell_type": "code",
   "execution_count": 59,
   "metadata": {},
   "outputs": [
    {
     "output_type": "execute_result",
     "data": {
      "text/plain": [
       "gt                  0\n",
       "title               1\n",
       "label               0\n",
       "domain_id        5888\n",
       "category_id         1\n",
       "seller_id           0\n",
       "brand_name     172195\n",
       "L1                  3\n",
       "L2                  3\n",
       "L3             228264\n",
       "shp_weight          0\n",
       "price               0\n",
       "dtype: int64"
      ]
     },
     "metadata": {},
     "execution_count": 59
    }
   ],
   "source": [
    "# Realizar un chequeo sobre las valores nulos\n",
    "\n",
    "ds.isna().sum()"
   ]
  },
  {
   "cell_type": "code",
   "execution_count": 60,
   "metadata": {},
   "outputs": [],
   "source": [
    "# Eliminación del único título nulo\n",
    "\n",
    "ds.dropna(subset=['title'], inplace=True)"
   ]
  },
  {
   "cell_type": "code",
   "execution_count": 61,
   "metadata": {},
   "outputs": [],
   "source": [
    "# Este manejo de valores nulos se realiza para que no se produzcan errores en la fase de entrenamiento\n",
    "\n",
    "ds['domain_id'] = ds['domain_id'].transform(lambda i: '' if i == None else i)\n",
    "ds['category_id'] = ds['category_id'].transform(lambda i: '' if i == None else i)\n",
    "ds['brand_name'] = ds['brand_name'].transform(lambda i: '' if i == None else i)\n",
    "ds['L1'] = ds['L1'].transform(lambda i: '' if i == None else i)\n",
    "ds['L2'] = ds['L2'].transform(lambda i: '' if i == None else i)\n",
    "ds['L3'] = ds['L3'].transform(lambda i: '' if i == None else i)"
   ]
  },
  {
   "cell_type": "code",
   "execution_count": 62,
   "metadata": {},
   "outputs": [
    {
     "output_type": "execute_result",
     "data": {
      "text/plain": [
       "gt             0\n",
       "title          0\n",
       "label          0\n",
       "domain_id      0\n",
       "category_id    0\n",
       "seller_id      0\n",
       "brand_name     0\n",
       "L1             0\n",
       "L2             0\n",
       "L3             0\n",
       "shp_weight     0\n",
       "price          0\n",
       "dtype: int64"
      ]
     },
     "metadata": {},
     "execution_count": 62
    }
   ],
   "source": [
    "# Realizar un chequeo sobre las valores nulos\n",
    "\n",
    "ds.isna().sum()"
   ]
  },
  {
   "cell_type": "code",
   "execution_count": 35,
   "metadata": {},
   "outputs": [
    {
     "output_type": "stream",
     "name": "stdout",
     "text": [
      "0        bau tork litros bagageiro titan fan preto poli\n1     protetor sofa mariana lugar dupla face poltron...\n2                tablet powerpack tela ips android chip\n3     capa silicone borracha tablet apple ipad pro p...\n4                    silencioso escapamento motor honda\n5            abajur lustre quarto luminaria mesa menina\n6       lampada led globo luz giratoria rgb jogo balada\n7                   kit relacao completa yamaha xtz xtz\n8             kit relacao completa velth yamaha xtz xtz\n9                kit hidratante sabonete overdose racco\n10                               bandeja civic sem pivo\n11                vinho luigi bosca malbec com promocao\n12           ghost opvs eponymovs limitada frete gratis\n13                         vodka ciroc coconut original\n14    capa banco carro couro ecologico universal tod...\n15    lindo poncho pelerine com pelos moda boutique ...\n16    pantovin kit crescimento cabelos anti queda co...\n17                          sunga lycra juvenil juvenil\n18                     jardineira evangelica com botoes\n19              kit relacao velth honda cbx twister cbx\n20     kit relacao velth honda nxr bros diante bros mix\n21                     kit relacao velth yamaha xtz xtz\n22                 kit relacao completa velth honda cbr\n23                    profuse ensolei compact color fps\n24       kit corrente coroa pinhao honda cbx strada cbx\n25             isdin nutratopic pro amp locao emoliente\n26                    bico injetor peugeot renault clio\n27              micro system caixa som bluetooth bivolt\n28    mascara keune sleek shine reconstrutora profis...\n29                       parabarro dianteiro ranger par\n30      sandalia petite jolie lastic preto promocao off\n31                   cabelo humano virgem liso promocao\n32       pelucia zigamazoo mostra lingua com cheiro dtc\n33                kit caneta plastica mod personalizada\n34    kit spot cob quadrado direcionavel led branco ...\n35           kit regata blusinha alcinha baby look gola\n36                  kit leds substituto innotek led smd\n37    conjunto caveira camisa bermuda manguito luva ...\n38    kit unidades controle pra alarme fks plus serv...\n39          kit tapete carpete kit milha led fiat punto\n40    suporte malas laterais monokey honda transalp ...\n41    shopkins cutie cars show parte carrinhos dtc p...\n42              barril chopp slim keg aco inox beer keg\n43     limitador porta dianteira corsa classic original\n44      som portatil boombox bluetooth player usb radio\n45     valvula trabalho peso panela tramontina valencia\n46    capa cobrir carro jacare para santa com forro ...\n47             acabamento midia renault captur original\n48                     palheta distribuidor adubo vacuo\n49                taca agua elegance azul kit com jarra\nName: title, dtype: object\n"
     ]
    }
   ],
   "source": [
    "# Muestra de títulos con preprocesamiento\n",
    "\n",
    "print(ds['title'].head(50))"
   ]
  },
  {
   "cell_type": "code",
   "execution_count": 63,
   "metadata": {},
   "outputs": [],
   "source": [
    "#Se guarda el conjunto de datos preprocesado\n",
    "\n",
    "ds.to_pickle('ds_pre.pkl')"
   ]
  }
 ],
 "metadata": {
  "accelerator": "TPU",
  "colab": {
   "authorship_tag": "ABX9TyNp6Y7vtsG9y4jW+yTyPWLS",
   "collapsed_sections": [],
   "mount_file_id": "1H6A3R5e5YE7Dtp-DrpOwPpM-VB1_43i4",
   "name": "Envios",
   "provenance": [],
   "toc_visible": true
  },
  "kernelspec": {
   "name": "python3",
   "display_name": "Python 3.9.1 64-bit",
   "metadata": {
    "interpreter": {
     "hash": "7812ea015bdcee6f23a998adcdd2ef97c151c0c241b7b7070987d9313e41299d"
    }
   }
  },
  "language_info": {
   "codemirror_mode": {
    "name": "ipython",
    "version": 3
   },
   "file_extension": ".py",
   "mimetype": "text/x-python",
   "name": "python",
   "nbconvert_exporter": "python",
   "pygments_lexer": "ipython3",
   "version": "3.9.1-final"
  }
 },
 "nbformat": 4,
 "nbformat_minor": 1
}